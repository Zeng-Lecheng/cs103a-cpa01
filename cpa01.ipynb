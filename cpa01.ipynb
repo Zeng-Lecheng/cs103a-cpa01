{
 "cells": [
  {
   "cell_type": "markdown",
   "metadata": {
    "collapsed": false
   },
   "source": [
    "# US Pollution 2000-2021\n",
    "This dataset contains air pollution data in the US from 2000 to 2021. It covers O3, CO, SO2 and NO2 concentration and their Air Quality Index. The dataset was derived from [EPA](https://www.epa.gov/) provided data and underwent preprocessing. It was downloaded from [Kaggle](https://www.kaggle.com/alpacanonymous/us-pollution-20002021).\n",
    "\n",
    "## My questions\n",
    "1. How does yearly emission of pollutants change in the two decades?\n",
    "2. In which season does each pollutant tend to have high concentration?"
   ]
  },
  {
   "cell_type": "markdown",
   "metadata": {
    "collapsed": false
   },
   "source": [
    "## Loading data"
   ]
  },
  {
   "cell_type": "code",
   "execution_count": 1,
   "metadata": {
    "collapsed": true
   },
   "outputs": [],
   "source": [
    "%matplotlib inline\n",
    "import numpy as np\n",
    "import pandas as pd\n",
    "import matplotlib.pyplot as plt\n",
    "\n",
    "df = pd.read_csv('data/pollution_2000_2021.csv')"
   ]
  },
  {
   "cell_type": "markdown",
   "metadata": {
    "collapsed": false
   },
   "source": [
    "## pd.describe()"
   ]
  },
  {
   "cell_type": "code",
   "execution_count": 2,
   "metadata": {
    "collapsed": false,
    "pycharm": {
     "name": "#%%\n"
    }
   },
   "outputs": [
    {
     "name": "stdout",
     "output_type": "stream",
     "text": [
      "                Year          Month            Day        O3 Mean  \\\n",
      "count  608699.000000  608699.000000  608699.000000  608699.000000   \n",
      "mean     2011.040529       6.508670      15.737176       0.028477   \n",
      "std         6.122558       3.310633       8.806949       0.012218   \n",
      "min      2000.000000       1.000000       1.000000      -0.000706   \n",
      "25%      2006.000000       4.000000       8.000000       0.019647   \n",
      "50%      2012.000000       7.000000      16.000000       0.028235   \n",
      "75%      2016.000000       9.000000      23.000000       0.036765   \n",
      "max      2021.000000      12.000000      31.000000       0.107353   \n",
      "\n",
      "       O3 1st Max Value  O3 1st Max Hour         O3 AQI        CO Mean  \\\n",
      "count     608699.000000    608699.000000  608699.000000  608699.000000   \n",
      "mean           0.038903        10.773469      39.112517       0.337258   \n",
      "std            0.015031         3.308152      22.480864       0.282958   \n",
      "min            0.000000         7.000000       0.000000      -0.437500   \n",
      "25%            0.029000         9.000000      27.000000       0.179167   \n",
      "50%            0.038000        10.000000      35.000000       0.262500   \n",
      "75%            0.048000        11.000000      44.000000       0.420833   \n",
      "max            0.140000        23.000000     237.000000       7.508333   \n",
      "\n",
      "       CO 1st Max Value  CO 1st Max Hour         CO AQI       SO2 Mean  \\\n",
      "count     608699.000000    608699.000000  608699.000000  608699.000000   \n",
      "mean           0.476798         5.971042       5.377387       1.523358   \n",
      "std            0.446321         7.739380       5.142873       2.495094   \n",
      "min           -0.400000         0.000000       0.000000      -2.508333   \n",
      "25%            0.200000         0.000000       2.000000       0.187500   \n",
      "50%            0.400000         2.000000       5.000000       0.666667   \n",
      "75%            0.600000         9.000000       7.000000       1.772727   \n",
      "max           15.500000        23.000000     201.000000     321.625000   \n",
      "\n",
      "       SO2 1st Max Value  SO2 1st Max Hour        SO2 AQI       NO2 Mean  \\\n",
      "count      608699.000000     608699.000000  608699.000000  608699.000000   \n",
      "mean            4.210271          8.851891       5.568708      11.738067   \n",
      "std             7.983793          6.774720      10.736164       9.083091   \n",
      "min            -2.300000          0.000000       0.000000      -4.629167   \n",
      "25%             0.600000          3.000000       0.000000       4.978261   \n",
      "50%             1.700000          8.000000       1.000000       9.541667   \n",
      "75%             4.000000         13.000000       6.000000      16.304348   \n",
      "max           351.000000         23.000000     200.000000     140.650000   \n",
      "\n",
      "       NO2 1st Max Value  NO2 1st Max Hour        NO2 AQI  \n",
      "count      608699.000000     608699.000000  608699.000000  \n",
      "mean           23.610711         11.606845      22.124240  \n",
      "std            15.412489          7.881014      14.610125  \n",
      "min            -4.400000          0.000000       0.000000  \n",
      "25%            11.200000          5.000000      10.000000  \n",
      "50%            21.800000          9.000000      20.000000  \n",
      "75%            33.700000         20.000000      31.000000  \n",
      "max           269.200000         23.000000     133.000000  \n"
     ]
    }
   ],
   "source": [
    "print(df.describe())"
   ]
  },
  {
   "cell_type": "markdown",
   "metadata": {
    "collapsed": false
   },
   "source": [
    "## Analyzing my dataset\n",
    "\n",
    "### The array of columns and the index array"
   ]
  },
  {
   "cell_type": "code",
   "execution_count": 3,
   "metadata": {
    "collapsed": false,
    "pycharm": {
     "name": "#%%\n"
    }
   },
   "outputs": [
    {
     "name": "stdout",
     "output_type": "stream",
     "text": [
      "Index(['Date', 'Year', 'Month', 'Day', 'Address', 'State', 'County', 'City',\n",
      "       'O3 Mean', 'O3 1st Max Value', 'O3 1st Max Hour', 'O3 AQI', 'CO Mean',\n",
      "       'CO 1st Max Value', 'CO 1st Max Hour', 'CO AQI', 'SO2 Mean',\n",
      "       'SO2 1st Max Value', 'SO2 1st Max Hour', 'SO2 AQI', 'NO2 Mean',\n",
      "       'NO2 1st Max Value', 'NO2 1st Max Hour', 'NO2 AQI'],\n",
      "      dtype='object')\n",
      "RangeIndex(start=0, stop=608699, step=1)\n"
     ]
    }
   ],
   "source": [
    "print(df.columns)\n",
    "print(df.index)"
   ]
  },
  {
   "cell_type": "markdown",
   "metadata": {
    "collapsed": false
   },
   "source": [
    "### Some simple plots\n",
    "\n",
    "#### AQI distributions"
   ]
  },
  {
   "cell_type": "code",
   "execution_count": 4,
   "metadata": {
    "collapsed": false,
    "pycharm": {
     "name": "#%%\n"
    }
   },
   "outputs": [
    {
     "data": {
      "text/plain": [
       "array([[<AxesSubplot:title={'center':'O3 AQI'}>,\n",
       "        <AxesSubplot:title={'center':'CO AQI'}>],\n",
       "       [<AxesSubplot:title={'center':'SO2 AQI'}>,\n",
       "        <AxesSubplot:title={'center':'NO2 AQI'}>]], dtype=object)"
      ]
     },
     "execution_count": 4,
     "metadata": {},
     "output_type": "execute_result"
    },
    {
     "data": {
      "image/png": "[encoded data removed]",
      "text/plain": [
       "<Figure size 432x288 with 4 Axes>"
      ]
     },
     "metadata": {
      "needs_background": "light"
     },
     "output_type": "display_data"
    }
   ],
   "source": [
    "df.hist(['O3 AQI', 'CO AQI', 'SO2 AQI', 'NO2 AQI'], bins=20)"
   ]
  },
  {
   "cell_type": "markdown",
   "metadata": {
    "collapsed": false
   },
   "source": [
    "#### NO2 AQI in Winter Park against date"
   ]
  },
  {
   "cell_type": "code",
   "execution_count": 5,
   "metadata": {
    "collapsed": false,
    "pycharm": {
     "name": "#%%\n"
    }
   },
   "outputs": [
    {
     "data": {
      "text/plain": [
       "Text(0.5, 1.0, 'NO2 AQI in Winter Park')"
      ]
     },
     "execution_count": 5,
     "metadata": {},
     "output_type": "execute_result"
    },
    {
     "data": {
      "image/png": "[encoded data removed]",
      "text/plain": [
       "<Figure size 432x288 with 1 Axes>"
      ]
     },
     "metadata": {
      "needs_background": "light"
     },
     "output_type": "display_data"
    }
   ],
   "source": [
    "df[df['City'] == 'Winter Park'].plot('Date', 'NO2 AQI')\n",
    "plt.tick_params(axis='x', which='both', bottom=False, labelbottom=False)  # Remove tick labels\n",
    "plt.title('NO2 AQI in Winter Park')"
   ]
  },
  {
   "cell_type": "markdown",
   "metadata": {
    "collapsed": false
   },
   "source": [
    "### Pivot tables and plotting"
   ]
  },
  {
   "cell_type": "code",
   "execution_count": 6,
   "metadata": {
    "collapsed": false,
    "pycharm": {
     "name": "#%%\n"
    }
   },
   "outputs": [
    {
     "name": "stdout",
     "output_type": "stream",
     "text": [
      "       CO Mean   NO2 Mean   O3 Mean  SO2 Mean\n",
      "Year                                         \n",
      "2000  0.554411  17.404993  0.026569  3.643767\n",
      "2001  0.512427  17.572878  0.027640  3.249895\n",
      "2002  0.497511  16.334337  0.029079  2.796563\n",
      "2003  0.490883  15.877995  0.027643  2.910570\n",
      "2004  0.450355  15.042115  0.026913  2.971342\n",
      "2005  0.421747  15.073970  0.027924  3.031855\n",
      "2006  0.396596  14.301465  0.028297  2.645756\n",
      "2007  0.367583  13.165632  0.028708  2.363346\n",
      "2008  0.324247  12.141117  0.028287  1.914403\n",
      "2009  0.322689  11.452351  0.027226  1.554269\n",
      "2010  0.321201  11.235663  0.028798  1.301937\n",
      "2011  0.307117  11.145716  0.028802  1.212526\n",
      "2012  0.300725  10.581060  0.029319  0.964765\n",
      "2013  0.277498  10.479755  0.028508  0.861701\n",
      "2014  0.275702  10.029730  0.028230  0.874203\n",
      "2015  0.281823   9.461669  0.028386  0.746485\n",
      "2016  0.263482   8.993702  0.028762  0.572334\n",
      "2017  0.262722   8.946071  0.029139  0.551131\n",
      "2018  0.268630   8.873055  0.028790  0.503567\n",
      "2019  0.248403   9.533735  0.028946  0.469915\n",
      "2020  0.249879   8.681393  0.028418  0.402463\n",
      "2021  0.234998   8.232135  0.031767  0.407585\n"
     ]
    },
    {
     "data": {
      "image/png": "[encoded data removed]",
      "text/plain": [
       "<Figure size 432x288 with 1 Axes>"
      ]
     },
     "metadata": {
      "needs_background": "light"
     },
     "output_type": "display_data"
    }
   ],
   "source": [
    "# Averages over the years. See a decreasing trend.\n",
    "df_year = df.pivot_table(index=['Year'], values=['O3 Mean', 'CO Mean', 'SO2 Mean', 'NO2 Mean'], aggfunc=np.mean)\n",
    "print(df_year)\n",
    "\n",
    "df_year.plot()\n",
    "plt.title('Average pollutant emission in all cities in each year')\n",
    "plt.ylabel('Average emission over cities')\n",
    "plt.grid()"
   ]
  },
  {
   "cell_type": "code",
   "execution_count": 7,
   "metadata": {
    "collapsed": false,
    "pycharm": {
     "name": "#%%\n"
    }
   },
   "outputs": [
    {
     "name": "stdout",
     "output_type": "stream",
     "text": [
      "                CO Mean   NO2 Mean   O3 Mean  SO2 Mean\n",
      "City                                                  \n",
      "Albuquerque    0.215085  10.865637  0.034981  0.579792\n",
      "Alexandria     0.310460  17.949247  0.031887  2.937927\n",
      "Altoona        0.154131   9.802171  0.030418  4.151453\n",
      "Annandale      0.478949  14.914023  0.030167  5.047360\n",
      "Arden-Arcade   0.370411   9.258798  0.028366  0.952418\n",
      "...                 ...        ...       ...       ...\n",
      "Wilkes-Barre   0.208728   9.360137  0.030749  3.111206\n",
      "Wilmington     0.252862  10.811691  0.028282  0.712933\n",
      "Winston-Salem  0.461236  10.937148  0.038679  3.764752\n",
      "Winter Park    0.448425   6.786697  0.029220  0.427436\n",
      "York           0.208884  11.999344  0.031001  2.778197\n",
      "\n",
      "[148 rows x 4 columns]\n"
     ]
    },
    {
     "data": {
      "image/png": "[encoded data removed]",
      "text/plain": [
       "<Figure size 432x288 with 4 Axes>"
      ]
     },
     "metadata": {
      "needs_background": "light"
     },
     "output_type": "display_data"
    }
   ],
   "source": [
    "# Averages of pollution data all the years over each city. Showing pollution distribution among cities.\n",
    "df_city = df.pivot_table(index=['City'], values=['O3 Mean', 'CO Mean', 'SO2 Mean', 'NO2 Mean'], aggfunc=np.mean)\n",
    "print(df_city)\n",
    "\n",
    "fig, ax = plt.subplots(2, 2)\n",
    "fig.suptitle('Distributions of average emissions by city')\n",
    "ax[0, 0].hist(df_city['O3 Mean'], bins=20)\n",
    "ax[0, 0].set_title('O3')\n",
    "ax[0, 0].set(xlabel='Average amount of emission over years', ylabel='Number of cities')\n",
    "ax[0, 1].hist(df_city['CO Mean'], bins=20)\n",
    "ax[0, 1].set_title('CO')\n",
    "ax[0, 1].set(xlabel='Average amount of emission over years', ylabel='Number of cities')\n",
    "ax[1, 0].hist(df_city['SO2 Mean'], bins=20)\n",
    "ax[1, 0].set_title('SO2')\n",
    "ax[1, 0].set(xlabel='Average amount of emission over years', ylabel='Number of cities')\n",
    "ax[1, 1].hist(df_city['NO2 Mean'], bins=20)\n",
    "ax[1, 1].set_title('NO2')\n",
    "ax[1, 1].set(xlabel='Average amount of emission over years', ylabel='Number of cities')\n",
    "plt.tight_layout()"
   ]
  },
  {
   "cell_type": "markdown",
   "metadata": {
    "collapsed": false
   },
   "source": [
    "### groupby feature"
   ]
  },
  {
   "cell_type": "code",
   "execution_count": 8,
   "metadata": {
    "collapsed": false,
    "pycharm": {
     "name": "#%%\n"
    }
   },
   "outputs": [
    {
     "data": {
      "text/html": [
       "<div>\n",
       "<style scoped>\n",
       "    .dataframe tbody tr th:only-of-type {\n",
       "        vertical-align: middle;\n",
       "    }\n",
       "\n",
       "    .dataframe tbody tr th {\n",
       "        vertical-align: top;\n",
       "    }\n",
       "\n",
       "    .dataframe thead th {\n",
       "        text-align: right;\n",
       "    }\n",
       "</style>\n",
       "<table border=\"1\" class=\"dataframe\">\n",
       "  <thead>\n",
       "    <tr style=\"text-align: right;\">\n",
       "      <th></th>\n",
       "      <th>Year</th>\n",
       "      <th>Month</th>\n",
       "      <th>Day</th>\n",
       "      <th>O3 Mean</th>\n",
       "      <th>O3 1st Max Value</th>\n",
       "      <th>O3 1st Max Hour</th>\n",
       "      <th>O3 AQI</th>\n",
       "      <th>CO Mean</th>\n",
       "      <th>CO 1st Max Value</th>\n",
       "      <th>CO 1st Max Hour</th>\n",
       "      <th>CO AQI</th>\n",
       "      <th>SO2 Mean</th>\n",
       "      <th>SO2 1st Max Value</th>\n",
       "      <th>SO2 1st Max Hour</th>\n",
       "      <th>SO2 AQI</th>\n",
       "      <th>NO2 Mean</th>\n",
       "      <th>NO2 1st Max Value</th>\n",
       "      <th>NO2 1st Max Hour</th>\n",
       "      <th>NO2 AQI</th>\n",
       "    </tr>\n",
       "    <tr>\n",
       "      <th>City</th>\n",
       "      <th></th>\n",
       "      <th></th>\n",
       "      <th></th>\n",
       "      <th></th>\n",
       "      <th></th>\n",
       "      <th></th>\n",
       "      <th></th>\n",
       "      <th></th>\n",
       "      <th></th>\n",
       "      <th></th>\n",
       "      <th></th>\n",
       "      <th></th>\n",
       "      <th></th>\n",
       "      <th></th>\n",
       "      <th></th>\n",
       "      <th></th>\n",
       "      <th></th>\n",
       "      <th></th>\n",
       "      <th></th>\n",
       "    </tr>\n",
       "  </thead>\n",
       "  <tbody>\n",
       "    <tr>\n",
       "      <th>Albuquerque</th>\n",
       "      <td>2015.799195</td>\n",
       "      <td>6.390336</td>\n",
       "      <td>15.722953</td>\n",
       "      <td>0.034981</td>\n",
       "      <td>0.044860</td>\n",
       "      <td>10.313020</td>\n",
       "      <td>44.522416</td>\n",
       "      <td>0.215085</td>\n",
       "      <td>0.316913</td>\n",
       "      <td>6.177987</td>\n",
       "      <td>3.459329</td>\n",
       "      <td>0.579792</td>\n",
       "      <td>1.172537</td>\n",
       "      <td>8.745503</td>\n",
       "      <td>0.868188</td>\n",
       "      <td>10.865637</td>\n",
       "      <td>24.476242</td>\n",
       "      <td>11.296913</td>\n",
       "      <td>22.655839</td>\n",
       "    </tr>\n",
       "    <tr>\n",
       "      <th>Alexandria</th>\n",
       "      <td>2005.804649</td>\n",
       "      <td>6.929445</td>\n",
       "      <td>15.868679</td>\n",
       "      <td>0.031887</td>\n",
       "      <td>0.044206</td>\n",
       "      <td>10.834829</td>\n",
       "      <td>47.696982</td>\n",
       "      <td>0.310460</td>\n",
       "      <td>0.438622</td>\n",
       "      <td>7.458401</td>\n",
       "      <td>4.990212</td>\n",
       "      <td>2.937927</td>\n",
       "      <td>11.529812</td>\n",
       "      <td>10.276101</td>\n",
       "      <td>16.020392</td>\n",
       "      <td>17.949247</td>\n",
       "      <td>32.831525</td>\n",
       "      <td>12.402936</td>\n",
       "      <td>30.955546</td>\n",
       "    </tr>\n",
       "    <tr>\n",
       "      <th>Altoona</th>\n",
       "      <td>2003.962493</td>\n",
       "      <td>7.021130</td>\n",
       "      <td>15.883254</td>\n",
       "      <td>0.030418</td>\n",
       "      <td>0.045098</td>\n",
       "      <td>10.528262</td>\n",
       "      <td>47.571580</td>\n",
       "      <td>0.154131</td>\n",
       "      <td>0.217485</td>\n",
       "      <td>4.097728</td>\n",
       "      <td>2.381933</td>\n",
       "      <td>4.151453</td>\n",
       "      <td>12.848917</td>\n",
       "      <td>9.829371</td>\n",
       "      <td>18.276281</td>\n",
       "      <td>9.802171</td>\n",
       "      <td>21.943476</td>\n",
       "      <td>11.103011</td>\n",
       "      <td>20.680930</td>\n",
       "    </tr>\n",
       "    <tr>\n",
       "      <th>Annandale</th>\n",
       "      <td>2005.317951</td>\n",
       "      <td>6.603138</td>\n",
       "      <td>15.790032</td>\n",
       "      <td>0.030167</td>\n",
       "      <td>0.040961</td>\n",
       "      <td>11.154592</td>\n",
       "      <td>45.222427</td>\n",
       "      <td>0.478949</td>\n",
       "      <td>0.585602</td>\n",
       "      <td>7.088602</td>\n",
       "      <td>6.748500</td>\n",
       "      <td>5.047360</td>\n",
       "      <td>11.727734</td>\n",
       "      <td>10.852330</td>\n",
       "      <td>16.710198</td>\n",
       "      <td>14.914023</td>\n",
       "      <td>29.721274</td>\n",
       "      <td>12.417167</td>\n",
       "      <td>28.057222</td>\n",
       "    </tr>\n",
       "    <tr>\n",
       "      <th>Arden-Arcade</th>\n",
       "      <td>2010.611882</td>\n",
       "      <td>6.566345</td>\n",
       "      <td>15.754976</td>\n",
       "      <td>0.028366</td>\n",
       "      <td>0.042099</td>\n",
       "      <td>10.556544</td>\n",
       "      <td>44.121984</td>\n",
       "      <td>0.370411</td>\n",
       "      <td>0.583203</td>\n",
       "      <td>6.809861</td>\n",
       "      <td>6.578559</td>\n",
       "      <td>0.952418</td>\n",
       "      <td>1.904373</td>\n",
       "      <td>8.551267</td>\n",
       "      <td>2.287545</td>\n",
       "      <td>9.258798</td>\n",
       "      <td>19.434560</td>\n",
       "      <td>12.324337</td>\n",
       "      <td>18.346954</td>\n",
       "    </tr>\n",
       "    <tr>\n",
       "      <th>...</th>\n",
       "      <td>...</td>\n",
       "      <td>...</td>\n",
       "      <td>...</td>\n",
       "      <td>...</td>\n",
       "      <td>...</td>\n",
       "      <td>...</td>\n",
       "      <td>...</td>\n",
       "      <td>...</td>\n",
       "      <td>...</td>\n",
       "      <td>...</td>\n",
       "      <td>...</td>\n",
       "      <td>...</td>\n",
       "      <td>...</td>\n",
       "      <td>...</td>\n",
       "      <td>...</td>\n",
       "      <td>...</td>\n",
       "      <td>...</td>\n",
       "      <td>...</td>\n",
       "      <td>...</td>\n",
       "    </tr>\n",
       "    <tr>\n",
       "      <th>Wilkes-Barre</th>\n",
       "      <td>2007.131907</td>\n",
       "      <td>6.748663</td>\n",
       "      <td>15.921569</td>\n",
       "      <td>0.030749</td>\n",
       "      <td>0.044622</td>\n",
       "      <td>10.611408</td>\n",
       "      <td>45.654189</td>\n",
       "      <td>0.208728</td>\n",
       "      <td>0.277718</td>\n",
       "      <td>5.023173</td>\n",
       "      <td>3.115865</td>\n",
       "      <td>3.111206</td>\n",
       "      <td>7.980392</td>\n",
       "      <td>8.625668</td>\n",
       "      <td>11.377897</td>\n",
       "      <td>9.360137</td>\n",
       "      <td>22.073084</td>\n",
       "      <td>11.900178</td>\n",
       "      <td>20.837790</td>\n",
       "    </tr>\n",
       "    <tr>\n",
       "      <th>Wilmington</th>\n",
       "      <td>2016.374288</td>\n",
       "      <td>6.272172</td>\n",
       "      <td>15.661513</td>\n",
       "      <td>0.028282</td>\n",
       "      <td>0.036984</td>\n",
       "      <td>10.855980</td>\n",
       "      <td>36.355980</td>\n",
       "      <td>0.252862</td>\n",
       "      <td>0.339870</td>\n",
       "      <td>6.000814</td>\n",
       "      <td>3.727421</td>\n",
       "      <td>0.712933</td>\n",
       "      <td>1.855452</td>\n",
       "      <td>10.644020</td>\n",
       "      <td>1.869406</td>\n",
       "      <td>10.811691</td>\n",
       "      <td>22.060985</td>\n",
       "      <td>11.082181</td>\n",
       "      <td>20.399512</td>\n",
       "    </tr>\n",
       "    <tr>\n",
       "      <th>Winston-Salem</th>\n",
       "      <td>2002.263918</td>\n",
       "      <td>7.226804</td>\n",
       "      <td>15.624742</td>\n",
       "      <td>0.038679</td>\n",
       "      <td>0.054726</td>\n",
       "      <td>10.492784</td>\n",
       "      <td>66.123711</td>\n",
       "      <td>0.461236</td>\n",
       "      <td>0.583093</td>\n",
       "      <td>6.350515</td>\n",
       "      <td>6.826804</td>\n",
       "      <td>3.764752</td>\n",
       "      <td>15.791753</td>\n",
       "      <td>9.781443</td>\n",
       "      <td>21.744330</td>\n",
       "      <td>10.937148</td>\n",
       "      <td>25.470103</td>\n",
       "      <td>12.435052</td>\n",
       "      <td>24.020619</td>\n",
       "    </tr>\n",
       "    <tr>\n",
       "      <th>Winter Park</th>\n",
       "      <td>2010.098285</td>\n",
       "      <td>6.446042</td>\n",
       "      <td>15.717414</td>\n",
       "      <td>0.029220</td>\n",
       "      <td>0.039442</td>\n",
       "      <td>10.154881</td>\n",
       "      <td>38.518206</td>\n",
       "      <td>0.448425</td>\n",
       "      <td>0.534301</td>\n",
       "      <td>5.212269</td>\n",
       "      <td>6.145119</td>\n",
       "      <td>0.427436</td>\n",
       "      <td>1.532348</td>\n",
       "      <td>6.708575</td>\n",
       "      <td>1.995119</td>\n",
       "      <td>6.786697</td>\n",
       "      <td>16.061227</td>\n",
       "      <td>10.342480</td>\n",
       "      <td>15.064248</td>\n",
       "    </tr>\n",
       "    <tr>\n",
       "      <th>York</th>\n",
       "      <td>2009.321277</td>\n",
       "      <td>6.823175</td>\n",
       "      <td>15.729404</td>\n",
       "      <td>0.031001</td>\n",
       "      <td>0.042872</td>\n",
       "      <td>10.888591</td>\n",
       "      <td>45.196026</td>\n",
       "      <td>0.208884</td>\n",
       "      <td>0.313284</td>\n",
       "      <td>5.738558</td>\n",
       "      <td>3.521768</td>\n",
       "      <td>2.778197</td>\n",
       "      <td>9.722259</td>\n",
       "      <td>8.913374</td>\n",
       "      <td>13.444519</td>\n",
       "      <td>11.999344</td>\n",
       "      <td>25.684751</td>\n",
       "      <td>10.692789</td>\n",
       "      <td>24.216789</td>\n",
       "    </tr>\n",
       "  </tbody>\n",
       "</table>\n",
       "<p>148 rows × 19 columns</p>\n",
       "</div>"
      ],
      "text/plain": [
       "                      Year     Month        Day   O3 Mean  O3 1st Max Value  \\\n",
       "City                                                                          \n",
       "Albuquerque    2015.799195  6.390336  15.722953  0.034981          0.044860   \n",
       "Alexandria     2005.804649  6.929445  15.868679  0.031887          0.044206   \n",
       "Altoona        2003.962493  7.021130  15.883254  0.030418          0.045098   \n",
       "Annandale      2005.317951  6.603138  15.790032  0.030167          0.040961   \n",
       "Arden-Arcade   2010.611882  6.566345  15.754976  0.028366          0.042099   \n",
       "...                    ...       ...        ...       ...               ...   \n",
       "Wilkes-Barre   2007.131907  6.748663  15.921569  0.030749          0.044622   \n",
       "Wilmington     2016.374288  6.272172  15.661513  0.028282          0.036984   \n",
       "Winston-Salem  2002.263918  7.226804  15.624742  0.038679          0.054726   \n",
       "Winter Park    2010.098285  6.446042  15.717414  0.029220          0.039442   \n",
       "York           2009.321277  6.823175  15.729404  0.031001          0.042872   \n",
       "\n",
       "               O3 1st Max Hour     O3 AQI   CO Mean  CO 1st Max Value  \\\n",
       "City                                                                    \n",
       "Albuquerque          10.313020  44.522416  0.215085          0.316913   \n",
       "Alexandria           10.834829  47.696982  0.310460          0.438622   \n",
       "Altoona              10.528262  47.571580  0.154131          0.217485   \n",
       "Annandale            11.154592  45.222427  0.478949          0.585602   \n",
       "Arden-Arcade         10.556544  44.121984  0.370411          0.583203   \n",
       "...                        ...        ...       ...               ...   \n",
       "Wilkes-Barre         10.611408  45.654189  0.208728          0.277718   \n",
       "Wilmington           10.855980  36.355980  0.252862          0.339870   \n",
       "Winston-Salem        10.492784  66.123711  0.461236          0.583093   \n",
       "Winter Park          10.154881  38.518206  0.448425          0.534301   \n",
       "York                 10.888591  45.196026  0.208884          0.313284   \n",
       "\n",
       "               CO 1st Max Hour    CO AQI  SO2 Mean  SO2 1st Max Value  \\\n",
       "City                                                                    \n",
       "Albuquerque           6.177987  3.459329  0.579792           1.172537   \n",
       "Alexandria            7.458401  4.990212  2.937927          11.529812   \n",
       "Altoona               4.097728  2.381933  4.151453          12.848917   \n",
       "Annandale             7.088602  6.748500  5.047360          11.727734   \n",
       "Arden-Arcade          6.809861  6.578559  0.952418           1.904373   \n",
       "...                        ...       ...       ...                ...   \n",
       "Wilkes-Barre          5.023173  3.115865  3.111206           7.980392   \n",
       "Wilmington            6.000814  3.727421  0.712933           1.855452   \n",
       "Winston-Salem         6.350515  6.826804  3.764752          15.791753   \n",
       "Winter Park           5.212269  6.145119  0.427436           1.532348   \n",
       "York                  5.738558  3.521768  2.778197           9.722259   \n",
       "\n",
       "               SO2 1st Max Hour    SO2 AQI   NO2 Mean  NO2 1st Max Value  \\\n",
       "City                                                                       \n",
       "Albuquerque            8.745503   0.868188  10.865637          24.476242   \n",
       "Alexandria            10.276101  16.020392  17.949247          32.831525   \n",
       "Altoona                9.829371  18.276281   9.802171          21.943476   \n",
       "Annandale             10.852330  16.710198  14.914023          29.721274   \n",
       "Arden-Arcade           8.551267   2.287545   9.258798          19.434560   \n",
       "...                         ...        ...        ...                ...   \n",
       "Wilkes-Barre           8.625668  11.377897   9.360137          22.073084   \n",
       "Wilmington            10.644020   1.869406  10.811691          22.060985   \n",
       "Winston-Salem          9.781443  21.744330  10.937148          25.470103   \n",
       "Winter Park            6.708575   1.995119   6.786697          16.061227   \n",
       "York                   8.913374  13.444519  11.999344          25.684751   \n",
       "\n",
       "               NO2 1st Max Hour    NO2 AQI  \n",
       "City                                        \n",
       "Albuquerque           11.296913  22.655839  \n",
       "Alexandria            12.402936  30.955546  \n",
       "Altoona               11.103011  20.680930  \n",
       "Annandale             12.417167  28.057222  \n",
       "Arden-Arcade          12.324337  18.346954  \n",
       "...                         ...        ...  \n",
       "Wilkes-Barre          11.900178  20.837790  \n",
       "Wilmington            11.082181  20.399512  \n",
       "Winston-Salem         12.435052  24.020619  \n",
       "Winter Park           10.342480  15.064248  \n",
       "York                  10.692789  24.216789  \n",
       "\n",
       "[148 rows x 19 columns]"
      ]
     },
     "execution_count": 8,
     "metadata": {},
     "output_type": "execute_result"
    }
   ],
   "source": [
    "df.groupby('City').mean()"
   ]
  },
  {
   "cell_type": "markdown",
   "metadata": {
    "collapsed": false
   },
   "source": [
    "## Discussion\n",
    "\n",
    "Let's answer the two questions I brought up.\n",
    "\n",
    "### How does yearly emission of pollutants change in the two decades?\n",
    "\n",
    "Simply doing summation on each year and comparing them does not work. Number of cities contained in each year varies which makes it impossible to compare data across the years."
   ]
  },
  {
   "cell_type": "code",
   "execution_count": 9,
   "metadata": {
    "collapsed": false,
    "pycharm": {
     "name": "#%%\n"
    }
   },
   "outputs": [
    {
     "name": "stdout",
     "output_type": "stream",
     "text": [
      "Houston {2000, 2001, 2002, 2003, 2004, 2005, 2006, 2007, 2008, 2009, 2010, 2011, 2012, 2013, 2014, 2015, 2016, 2017, 2018, 2019, 2020, 2021}\n",
      "Costa Mesa {2016, 2017, 2000, 2001, 2002, 2003, 2004, 2005, 2006, 2007, 2008, 2009, 2010, 2011, 2012, 2013, 2014, 2015}\n",
      "Reno {2016, 2017, 2018, 2019, 2020, 2021, 2010, 2011, 2012, 2013, 2014, 2015}\n",
      "San Antonio {2008, 2009, 2010}\n",
      "Portland {2016, 2017, 2018, 2019, 2020, 2021, 2007, 2008, 2009, 2010, 2011, 2012, 2013, 2014, 2015}\n",
      "New Castle {2000, 2001, 2002, 2003, 2004, 2005, 2006, 2007, 2008}\n",
      "Wilmington {2016, 2017, 2018, 2019, 2020, 2021, 2011, 2012, 2013, 2014, 2015}\n",
      "Scranton {2000, 2001, 2002, 2003, 2004, 2005, 2006, 2007, 2008}\n",
      "Louisville {2016, 2017, 2018, 2019, 2020, 2000, 2001, 2002, 2013, 2014, 2015}\n",
      "Ladue {2000, 2001}\n",
      "Sioux Falls {2016, 2017, 2018, 2019, 2020, 2021, 2011, 2012, 2013, 2014, 2015}\n",
      "East Highland Park {2016, 2017, 2018, 2019, 2020, 2021, 2010, 2011, 2012, 2013, 2014, 2015}\n",
      "Bethel Island {2000, 2001, 2002, 2003, 2004, 2005, 2006, 2007, 2008, 2009, 2010, 2011, 2012, 2013, 2014, 2015, 2016, 2017, 2018, 2019, 2020, 2021}\n",
      "Camden {2000, 2001, 2002, 2003, 2004, 2005, 2006, 2007, 2008, 2012, 2013, 2014, 2015, 2016, 2017, 2018, 2019, 2020, 2021}\n",
      "Birmingham {2016, 2017, 2018, 2019, 2020, 2021, 2013, 2014, 2015}\n",
      "Goleta {2000, 2001, 2002, 2003, 2004, 2005, 2006, 2007, 2008, 2009}\n",
      "Salt Lake City {2016, 2017, 2018, 2019, 2020, 2021, 2011, 2012, 2013, 2014, 2015}\n",
      "Milwaukee {2000, 2003, 2004, 2005, 2006, 2007}\n",
      "Winter Park {2000, 2001, 2002, 2003, 2004, 2005, 2006, 2007, 2008, 2009, 2010, 2011, 2012, 2013, 2014, 2015, 2016, 2017, 2018, 2019, 2020, 2021}\n",
      "Burbank {2000, 2001, 2002, 2003, 2004, 2005, 2006, 2007, 2008, 2009, 2010, 2011, 2012, 2013, 2014}\n",
      "Annandale {2002, 2003, 2004, 2005, 2006, 2007, 2008, 2009}\n",
      "West Los Angeles {2001, 2002}\n",
      "North Little Rock {2016, 2017, 2018, 2019, 2020, 2021, 2007, 2008, 2009, 2010, 2011, 2012, 2013, 2014, 2015}\n",
      "Midvale {2018, 2019, 2020, 2021}\n",
      "Lancaster {2000, 2001, 2002, 2003, 2004, 2005, 2006, 2007, 2008}\n",
      "Vinton {2016, 2017, 2018, 2019, 2020, 2021, 2013, 2014, 2015}\n",
      "San Francisco {2000, 2001, 2002, 2003, 2004, 2005, 2006, 2007, 2008}\n",
      "Fairbanks {2016, 2017, 2018, 2019, 2014, 2015}\n",
      "Rubidoux {2000, 2001, 2002, 2003, 2004, 2005, 2006, 2007, 2008, 2009, 2010, 2011, 2012, 2013, 2014, 2015, 2016, 2017, 2018, 2019, 2020, 2021}\n",
      "Cincinnati {2016, 2017, 2018, 2019, 2020, 2021, 2011, 2012, 2013, 2014, 2015}\n",
      "Sunrise Manor {2017, 2018, 2019, 2020, 2021}\n",
      "Grantsville {2016, 2017, 2018, 2019, 2020, 2021, 2014, 2015}\n",
      "Rutland {2016, 2017, 2018, 2019, 2020, 2021}\n",
      "Rochester {2011}\n",
      "Vandenberg Air Force Base {2000, 2001, 2002, 2003, 2004, 2005, 2006, 2007, 2008, 2009, 2010, 2011, 2012, 2013, 2014, 2015, 2016, 2017, 2018}\n",
      "El Paso {2000, 2001, 2002, 2003, 2004, 2005, 2006, 2007, 2008, 2009, 2010, 2011, 2012, 2013, 2014, 2015, 2016, 2017, 2019, 2020, 2021}\n",
      "Dentsville (Dents) {2016}\n",
      "New York {2000, 2001, 2002, 2003, 2004, 2005, 2006, 2007, 2008, 2009, 2010, 2011, 2012, 2013, 2014, 2015, 2016, 2017, 2018, 2019, 2020, 2021}\n",
      "San Pablo {2000, 2001, 2002, 2003, 2004, 2005, 2006, 2007, 2008, 2009, 2010, 2011, 2012, 2013, 2014, 2015, 2016, 2017, 2018, 2019, 2020, 2021}\n",
      "Holtsville {2000, 2001, 2002, 2003, 2004, 2005, 2006, 2007, 2008, 2009, 2010}\n",
      "Cicero {2000, 2001, 2002, 2003, 2004, 2005, 2006, 2007, 2008, 2009, 2010, 2011, 2012}\n",
      "Boulder City {2001, 2002, 2003}\n",
      "Baton Rouge {2000, 2001, 2002, 2003, 2004, 2005, 2006, 2007, 2008, 2009, 2010, 2011, 2012, 2013, 2014, 2015, 2016, 2017, 2018, 2019, 2020, 2021}\n",
      "Fontana {2016, 2017, 2018, 2019, 2020, 2021, 2008, 2009, 2010, 2011, 2012, 2013, 2014, 2015}\n",
      "Grand Rapids {2021, 2002, 2003, 2004, 2005, 2006, 2007}\n",
      "Victorville {2000, 2001, 2002, 2003, 2004, 2005, 2006, 2007, 2008, 2009, 2010, 2011, 2012, 2013, 2014, 2015, 2016, 2017, 2018, 2019, 2020, 2021}\n",
      "Davenport {2000, 2001, 2002, 2003, 2004, 2005, 2006, 2007, 2008, 2009, 2010, 2011, 2012, 2013, 2014, 2015, 2016, 2017, 2018}\n",
      "Tulsa {2016, 2017, 2018, 2019, 2020, 2021, 2006, 2007, 2008, 2009, 2010, 2011, 2012, 2013, 2014, 2015}\n",
      "El Cajon {2016, 2017, 2018, 2019, 2020, 2021, 2011, 2012, 2013, 2014, 2015}\n",
      "Essex {2016, 2017, 2018, 2019, 2020, 2021, 2006, 2007, 2008, 2009, 2010, 2011, 2012, 2013, 2014, 2015}\n",
      "Calumet City (PU RR name Calumet Park (sta.)) {2000, 2001, 2002}\n",
      "Roosevelt {2012}\n",
      "Londonderry {2016, 2017, 2018, 2019, 2020, 2021, 2014, 2015}\n",
      "Boston {2001, 2002, 2003, 2004, 2005, 2006, 2007, 2008, 2009, 2010, 2011, 2012, 2013, 2014, 2015, 2016, 2017, 2018, 2019, 2020, 2021}\n",
      "Pittsburg {2000, 2001, 2002, 2003, 2004, 2005, 2006, 2007, 2008}\n",
      "Altoona {2000, 2001, 2002, 2003, 2004, 2005, 2006, 2007, 2008}\n",
      "Bristol {2000, 2001, 2002, 2003, 2004, 2005, 2006, 2007, 2008, 2009, 2010, 2011, 2012, 2013, 2014}\n",
      "East Hartford {2016, 2017, 2007, 2008, 2009, 2010, 2011, 2012, 2013, 2014, 2015}\n",
      "Eureka {2016, 2017, 2018, 2019, 2020, 2021, 2006, 2007, 2008, 2009, 2010, 2011, 2012, 2013, 2014, 2015}\n",
      "Cupertino {2010, 2011, 2012, 2013}\n",
      "Riverton {2014, 2015}\n",
      "San Jose {2016, 2017, 2018, 2019, 2020, 2021, 2009, 2010, 2011, 2012, 2013, 2014, 2015}\n",
      "Oklahoma City {2019, 2020, 2021, 2011, 2012, 2013, 2014, 2015}\n",
      "Philadelphia {2019, 2020, 2021, 2000, 2001, 2002, 2003, 2004, 2005, 2006, 2007, 2008, 2009, 2010, 2011, 2012, 2013, 2014}\n",
      "Washington {2000, 2001, 2002, 2003, 2004, 2005, 2006, 2007, 2008, 2009, 2010, 2011, 2012, 2013, 2014, 2015, 2016, 2017, 2018, 2019, 2020, 2021}\n",
      "Calexico {2000, 2001, 2002, 2003, 2004, 2005, 2006, 2007, 2008, 2009, 2010, 2011, 2012, 2013, 2014, 2015, 2016, 2017, 2018, 2019, 2020, 2021}\n",
      "Breckenridge Hills {2001, 2002, 2003, 2004}\n",
      "Miami {2001, 2002, 2003, 2004, 2005}\n",
      "Lompoc {2000, 2001, 2002, 2003, 2004, 2005, 2006, 2007, 2008, 2009, 2010, 2011, 2012, 2013, 2014, 2015, 2016, 2017, 2018, 2019, 2020, 2021}\n",
      "Jackson {2016, 2017, 2018, 2019, 2020, 2015}\n",
      "Bakersfield {2000, 2001}\n",
      "McLean {2000, 2001, 2002, 2003, 2004, 2005, 2006, 2007, 2008, 2009}\n",
      "Valrico {2008, 2007}\n",
      "Memphis {2021}\n",
      "Scottsdale {2000, 2001, 2002, 2003, 2004, 2005, 2006, 2007, 2008, 2009, 2010}\n",
      "Deer Park {2016, 2017, 2018, 2019, 2020, 2021, 2010, 2011, 2012, 2013, 2014, 2015}\n",
      "Lexington-Fayette (corporate name for Lexington) {2000, 2001, 2002, 2003}\n",
      "Chicago {2000}\n",
      "Hampton {2016, 2017, 2018, 2019, 2020, 2021, 2010, 2011, 2012, 2013, 2014, 2015}\n",
      "New Haven {2016, 2017, 2018, 2019, 2020, 2021, 2006, 2007, 2008, 2009, 2010, 2011, 2012, 2013, 2014, 2015}\n",
      "St. Louis {2016, 2017, 2018, 2019, 2020, 2021, 2000, 2001, 2002, 2003, 2004, 2005, 2006, 2007, 2008, 2013, 2014, 2015}\n",
      "San Diego {2000, 2001, 2002, 2003, 2004, 2005, 2006, 2007, 2008, 2009, 2010, 2011}\n",
      "Charlotte {2000, 2001, 2002, 2003, 2004, 2005, 2006, 2007, 2008, 2009, 2010, 2011, 2012, 2013, 2014, 2015, 2016, 2017, 2018, 2019, 2020, 2021}\n",
      "Denver {2016, 2017, 2018, 2019, 2020, 2021, 2005, 2006, 2007, 2008, 2012, 2013, 2014, 2015}\n",
      "Hawthorne {2000, 2001, 2002, 2003, 2004}\n",
      "Capitan {2000, 2001, 2002, 2003, 2004, 2005, 2006, 2007, 2008, 2009, 2010, 2011, 2012, 2013, 2014, 2015, 2016, 2017, 2018, 2019, 2020, 2021}\n",
      "Albuquerque {2016, 2017, 2018, 2019, 2020, 2021, 2011, 2012, 2013, 2014, 2015}\n",
      "Not in a city {2000, 2001, 2002, 2003, 2004, 2005, 2006, 2007, 2008, 2009, 2010, 2011, 2012, 2013, 2014, 2015, 2016, 2017, 2018, 2019, 2020, 2021}\n",
      "Freemansburg {2000, 2001, 2002, 2003, 2004, 2005, 2006, 2007, 2008}\n",
      "Alexandria {2000, 2001, 2002, 2003, 2004, 2005, 2006, 2007, 2008, 2009, 2010, 2011, 2012}\n",
      "Sunset Hills {2000, 2001, 2005}\n",
      "East Providence {2016, 2017, 2018, 2019, 2020, 2021, 2011, 2012, 2013, 2014, 2015}\n",
      "Los Angeles {2000, 2001, 2002, 2003, 2004, 2005, 2006, 2007, 2008, 2009, 2010, 2011, 2012, 2013, 2014, 2015, 2016, 2017, 2018, 2019, 2020, 2021}\n",
      "Northbrook {2016, 2021, 2007, 2008, 2009, 2010, 2011, 2012, 2013, 2014, 2015}\n",
      "Reading {2000, 2001, 2002, 2003, 2004, 2005, 2006}\n",
      "Cornwall {2016, 2010, 2011, 2012, 2013, 2014, 2015}\n",
      "Tucson {2000, 2001, 2002, 2003, 2004, 2005, 2006, 2007, 2008, 2009, 2010, 2011, 2012, 2013, 2014, 2015, 2016, 2017, 2018, 2019, 2020, 2021}\n",
      "Indianapolis (Remainder) {2000, 2001, 2002, 2003, 2004, 2005, 2006, 2007, 2008, 2009, 2010, 2011, 2012, 2013, 2014, 2015, 2016, 2017, 2018, 2019, 2020, 2021}\n",
      "Wilkes-Barre {2008, 2006, 2007}\n",
      "Ponca City {2000, 2001, 2002, 2003, 2004}\n",
      "St. Ann {2000}\n",
      "Des Moines {2016, 2017, 2018, 2007, 2008, 2009, 2010, 2011, 2012, 2013, 2014, 2015}\n",
      "Kenner {2005, 2006}\n",
      "Westport {2007, 2008, 2009, 2010, 2011, 2012}\n",
      "Raleigh {2016, 2017, 2018, 2019, 2020, 2021, 2014, 2015}\n",
      "Crockett {2001, 2002, 2003}\n",
      "Arden-Arcade {2000, 2001, 2002, 2003, 2004, 2005, 2006, 2007, 2008, 2009, 2010, 2011, 2012, 2013, 2014, 2015, 2016, 2017, 2018, 2019, 2020, 2021}\n",
      "Fresno {2016, 2017, 2018, 2019, 2020, 2021, 2003, 2007, 2008, 2009, 2010, 2011, 2012, 2013, 2014, 2015}\n",
      "Manchester {2002, 2003, 2004, 2005, 2006, 2007, 2008, 2009, 2010}\n",
      "Charleroi {2000, 2001, 2002, 2003, 2004, 2005, 2006, 2007, 2008, 2009, 2010, 2011, 2012, 2013, 2014, 2015}\n",
      "Norristown {2000, 2001, 2002, 2003, 2004, 2005, 2006, 2007, 2008}\n",
      "Welby {2000, 2001, 2002, 2003, 2004, 2005, 2006, 2007, 2008, 2009, 2010, 2011, 2012, 2013, 2014, 2015, 2016, 2017, 2018, 2019, 2020, 2021}\n",
      "Park Hill {2000, 2001, 2002, 2003, 2004, 2005, 2006, 2007, 2008, 2009}\n",
      "East Saint Louis {2001, 2002, 2003, 2004, 2005, 2006, 2007, 2008, 2009, 2010, 2011, 2012, 2013, 2014, 2015, 2016, 2017, 2018, 2019}\n",
      "Beltsville {2016, 2017, 2018, 2019, 2020, 2021, 2007, 2008, 2012, 2013, 2014, 2015}\n",
      "Cherry Tree {2008, 2009, 2010, 2011, 2012, 2013}\n",
      "Dallas {2000, 2001, 2002, 2003, 2004, 2005, 2006, 2007, 2008, 2009, 2010, 2011, 2012, 2013, 2014, 2015, 2016, 2017, 2018, 2019, 2020, 2021}\n",
      "Blaine {2016, 2017, 2018, 2019, 2020, 2021, 2011, 2012, 2014, 2015}\n",
      "Bismarck {2016, 2017, 2018, 2019, 2020, 2021}\n",
      "Kansas City {2000, 2001, 2002, 2003, 2004, 2005, 2006, 2007, 2008, 2009, 2010, 2011, 2012, 2013, 2014, 2015, 2016, 2017, 2018, 2019, 2020, 2021}\n",
      "Berkeley {2008, 2009, 2010, 2007}\n",
      "Concord {2000, 2001, 2002, 2003, 2004, 2005, 2006, 2007, 2008, 2009, 2010, 2011, 2012, 2013, 2014, 2015, 2016, 2017, 2018, 2019, 2020, 2021}\n",
      "Long Beach {2000, 2001, 2002, 2003, 2004, 2005, 2006, 2007, 2008, 2009, 2010, 2011, 2012, 2013, 2014, 2015, 2016, 2017, 2018, 2019}\n",
      "Chula Vista {2000, 2001, 2002, 2003, 2004, 2005, 2006, 2007, 2008, 2009, 2010}\n",
      "York {2000, 2001, 2002, 2003, 2004, 2005, 2006, 2007, 2008, 2009, 2010, 2011, 2012, 2013, 2014, 2015, 2016, 2017, 2018}\n",
      "Seattle {2016, 2017, 2018, 2019, 2020, 2021, 2000, 2001, 2002, 2003, 2004, 2005, 2013, 2014, 2015}\n",
      "Paducah {2000, 2001}\n",
      "Detroit {2000, 2001, 2002, 2003, 2004, 2005, 2006}\n",
      "Waco {2016, 2017, 2007, 2008, 2009, 2010, 2011, 2012, 2013, 2014, 2015}\n",
      "Oakland {2016, 2017, 2018, 2019, 2020, 2021, 2001, 2002, 2003, 2010, 2011, 2012, 2013, 2014, 2015}\n",
      "Presque Isle {2016, 2017, 2018, 2019, 2020, 2021, 2006, 2007, 2008, 2009, 2010, 2011, 2012, 2013, 2014, 2015}\n",
      "Athens {2009}\n",
      "Henderson {2000, 2001}\n",
      "Cleveland {2016, 2017, 2018, 2019, 2020, 2021, 2011, 2012, 2013, 2014, 2015}\n",
      "Seven Corners {2000, 2001}\n",
      "Winston-Salem {2000, 2001, 2002, 2003, 2004}\n",
      "Phoenix {2000, 2001, 2002, 2003, 2004, 2005, 2006, 2007, 2008, 2009, 2010, 2011, 2012, 2013, 2014, 2015, 2016, 2017, 2018, 2019, 2020, 2021}\n",
      "Ashland {2000, 2001, 2002, 2003}\n",
      "Greensburg {2000, 2001, 2002, 2003, 2004, 2005, 2006, 2007, 2008}\n",
      "Ferguson {2000, 2001}\n",
      "Johnstown {2000, 2001, 2002, 2003, 2004, 2005, 2006, 2007, 2008, 2009, 2010, 2011, 2012, 2013, 2014, 2015, 2016, 2017, 2018, 2019, 2020, 2021}\n",
      "Benicia {2008, 2007}\n",
      "Newark {2016, 2017, 2018, 2019, 2020, 2021, 2001, 2002, 2003, 2011, 2012, 2013, 2014, 2015}\n",
      "Pittsburgh {2000, 2001, 2002, 2003, 2004, 2005, 2006, 2007, 2008, 2009, 2010, 2011, 2012, 2013, 2014}\n",
      "Beaver Falls {2000, 2001, 2002, 2003, 2004, 2005, 2006, 2007, 2008}\n",
      "Vallejo {2000, 2001, 2002, 2003, 2004, 2005, 2006, 2007, 2008, 2009, 2010, 2011, 2012, 2013, 2014, 2015, 2016, 2017, 2018, 2019, 2020, 2021}\n",
      "Erie {2016, 2005, 2006, 2007, 2008, 2009, 2010, 2011, 2012, 2013, 2014, 2015}\n",
      "Austin {2012, 2013, 2014}\n"
     ]
    }
   ],
   "source": [
    "for city in set(df['City']):\n",
    "    print(city, set(df[df['City'] == city]['Year']))"
   ]
  },
  {
   "cell_type": "markdown",
   "metadata": {
    "collapsed": false
   },
   "source": [
    "We can see that these cities appears in very different ranges of years in our dataset. My solution to this is picking cities have a full collection of 2000-2021 and plot their yearly average AQI."
   ]
  },
  {
   "cell_type": "code",
   "execution_count": 10,
   "metadata": {
    "collapsed": false,
    "pycharm": {
     "name": "#%%\n"
    }
   },
   "outputs": [],
   "source": [
    "# Pick out the desired cites\n",
    "cities = set()\n",
    "for city in set(df['City']):\n",
    "    if len(set(df[df['City'] == city]['Year'])) == 22:\n",
    "        cities.add(city)\n",
    "\n",
    "dfs = []\n",
    "for city in cities:\n",
    "    dfs.append(df[df['City'] == city])\n",
    "df_full_year = pd.concat(dfs)"
   ]
  },
  {
   "cell_type": "code",
   "execution_count": 11,
   "metadata": {
    "collapsed": false,
    "pycharm": {
     "name": "#%%\n"
    }
   },
   "outputs": [
    {
     "data": {
      "text/plain": [
       "Text(0, 0.5, 'API')"
      ]
     },
     "execution_count": 11,
     "metadata": {},
     "output_type": "execute_result"
    },
    {
     "data": {
      "image/png": "[encoded data removed]",
      "text/plain": [
       "<Figure size 432x288 with 1 Axes>"
      ]
     },
     "metadata": {
      "needs_background": "light"
     },
     "output_type": "display_data"
    }
   ],
   "source": [
    "df_year_compare = df_full_year.pivot_table(values=['O3 AQI', 'CO AQI', 'SO2 AQI', 'NO2 AQI'], index='Year',\n",
    "                                           aggfunc=np.mean)\n",
    "df_year_compare.plot()\n",
    "plt.title(f'Annual average API from 2000 to 2021 on {len(cities)} cites')\n",
    "plt.ylabel('API')"
   ]
  },
  {
   "cell_type": "markdown",
   "metadata": {
    "collapsed": false,
    "pycharm": {
     "name": "#%% md\n"
    }
   },
   "source": [
    "From this figure, we find that basically all four pollutants are decreasing over the years. O3 reached a platform at around 2012 and showed a tiny increase near 2020."
   ]
  },
  {
   "cell_type": "markdown",
   "metadata": {
    "collapsed": false
   },
   "source": [
    "### In which season does each pollutant tend to have high concentration?\n",
    "\n",
    "Still using those cities with a full collection, we plot their average AQI in days of year."
   ]
  },
  {
   "cell_type": "code",
   "execution_count": 12,
   "metadata": {
    "collapsed": false,
    "pycharm": {
     "name": "#%%\n"
    }
   },
   "outputs": [
    {
     "data": {
      "text/plain": [
       "Text(0, 0.5, 'AQI')"
      ]
     },
     "execution_count": 12,
     "metadata": {},
     "output_type": "execute_result"
    },
    {
     "data": {
      "image/png": "[encoded data removed]",
      "text/plain": [
       "<Figure size 432x288 with 1 Axes>"
      ]
     },
     "metadata": {
      "needs_background": "light"
     },
     "output_type": "display_data"
    }
   ],
   "source": [
    "df_day_compare = df_full_year.pivot_table(values=['O3 AQI', 'CO AQI', 'SO2 AQI', 'NO2 AQI'], index=['Month', 'Day'],\n",
    "                                          aggfunc=np.mean)\n",
    "df_day_compare.plot()\n",
    "plt.title(f'Average AQI on days of year from 2000 to 2021 on {len(cities)} cities')\n",
    "plt.ylabel('AQI')"
   ]
  },
  {
   "cell_type": "markdown",
   "metadata": {
    "collapsed": false,
    "pycharm": {
     "name": "#%% md\n"
    }
   },
   "source": [
    "From this figure, it is clear that O3 increases during spring and reaches its top in summer. This is because oxygen molecular in air is more easily ionized under more powerful sunlight which contains strong ultraviolet. Meanwhile, NO2 and CO are higher during winter. This might be due to heat services running in cold weather since fuel burning could release NO2 from components in the fuel and CO from insufficient burning. SO2 remains almost the same through the whole year."
   ]
  }
 ],
 "metadata": {
  "kernelspec": {
   "display_name": "Python 3",
   "language": "python",
   "name": "python3"
  },
  "language_info": {
   "codemirror_mode": {
    "name": "ipython",
    "version": 3
   },
   "file_extension": ".py",
   "mimetype": "text/x-python",
   "name": "python",
   "nbconvert_exporter": "python",
   "pygments_lexer": "ipython3",
   "version": "3.9.10"
  }
 },
 "nbformat": 4,
 "nbformat_minor": 0
}
